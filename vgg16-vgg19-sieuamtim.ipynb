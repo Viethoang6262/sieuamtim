{
  "nbformat": 4,
  "nbformat_minor": 5,
  "metadata": {
    "kernelspec": {
      "display_name": "Python 3",
      "language": "python",
      "name": "python3"
    },
    "language_info": {
      "codemirror_mode": {
        "name": "ipython",
        "version": 3
      },
      "file_extension": ".py",
      "mimetype": "text/x-python",
      "name": "python",
      "nbconvert_exporter": "python",
      "pygments_lexer": "ipython3",
      "version": "3.8.8"
    },
    "colab": {
      "name": "vgg16-vgg19-sieuamtim.ipynb",
      "provenance": [],
      "collapsed_sections": []
    },
    "accelerator": "GPU",
    "widgets": {
      "application/vnd.jupyter.widget-state+json": {
        "95d314b28d564ae182a06bb233e9c241": {
          "model_module": "@jupyter-widgets/controls",
          "model_name": "HBoxModel",
          "model_module_version": "1.5.0",
          "state": {
            "_view_name": "HBoxView",
            "_dom_classes": [],
            "_model_name": "HBoxModel",
            "_view_module": "@jupyter-widgets/controls",
            "_model_module_version": "1.5.0",
            "_view_count": null,
            "_view_module_version": "1.5.0",
            "box_style": "",
            "layout": "IPY_MODEL_b9d27dd8e3ee44ea8792b6939e40d408",
            "_model_module": "@jupyter-widgets/controls",
            "children": [
              "IPY_MODEL_a8f718a6220a409ca563732989f5c504",
              "IPY_MODEL_7079217c80eb4cc8a93388abe3d26de8",
              "IPY_MODEL_d0537685dd464f03ab4cd7097d61ea98"
            ]
          }
        },
        "b9d27dd8e3ee44ea8792b6939e40d408": {
          "model_module": "@jupyter-widgets/base",
          "model_name": "LayoutModel",
          "model_module_version": "1.2.0",
          "state": {
            "_view_name": "LayoutView",
            "grid_template_rows": null,
            "right": null,
            "justify_content": null,
            "_view_module": "@jupyter-widgets/base",
            "overflow": null,
            "_model_module_version": "1.2.0",
            "_view_count": null,
            "flex_flow": null,
            "width": null,
            "min_width": null,
            "border": null,
            "align_items": null,
            "bottom": null,
            "_model_module": "@jupyter-widgets/base",
            "top": null,
            "grid_column": null,
            "overflow_y": null,
            "overflow_x": null,
            "grid_auto_flow": null,
            "grid_area": null,
            "grid_template_columns": null,
            "flex": null,
            "_model_name": "LayoutModel",
            "justify_items": null,
            "grid_row": null,
            "max_height": null,
            "align_content": null,
            "visibility": null,
            "align_self": null,
            "height": null,
            "min_height": null,
            "padding": null,
            "grid_auto_rows": null,
            "grid_gap": null,
            "max_width": null,
            "order": null,
            "_view_module_version": "1.2.0",
            "grid_template_areas": null,
            "object_position": null,
            "object_fit": null,
            "grid_auto_columns": null,
            "margin": null,
            "display": null,
            "left": null
          }
        },
        "a8f718a6220a409ca563732989f5c504": {
          "model_module": "@jupyter-widgets/controls",
          "model_name": "HTMLModel",
          "model_module_version": "1.5.0",
          "state": {
            "_view_name": "HTMLView",
            "style": "IPY_MODEL_28b1468f9e634a12a8387459044a2a63",
            "_dom_classes": [],
            "description": "",
            "_model_name": "HTMLModel",
            "placeholder": "​",
            "_view_module": "@jupyter-widgets/controls",
            "_model_module_version": "1.5.0",
            "value": "100%",
            "_view_count": null,
            "_view_module_version": "1.5.0",
            "description_tooltip": null,
            "_model_module": "@jupyter-widgets/controls",
            "layout": "IPY_MODEL_9afe5bac1e194e788f8fa6bfbb09a58d"
          }
        },
        "7079217c80eb4cc8a93388abe3d26de8": {
          "model_module": "@jupyter-widgets/controls",
          "model_name": "FloatProgressModel",
          "model_module_version": "1.5.0",
          "state": {
            "_view_name": "ProgressView",
            "style": "IPY_MODEL_dff5aa39155f43d0993d03d6411c8e0d",
            "_dom_classes": [],
            "description": "",
            "_model_name": "FloatProgressModel",
            "bar_style": "success",
            "max": 574769405,
            "_view_module": "@jupyter-widgets/controls",
            "_model_module_version": "1.5.0",
            "value": 574769405,
            "_view_count": null,
            "_view_module_version": "1.5.0",
            "orientation": "horizontal",
            "min": 0,
            "description_tooltip": null,
            "_model_module": "@jupyter-widgets/controls",
            "layout": "IPY_MODEL_67d86f42308b49cf91802facf2d824e4"
          }
        },
        "d0537685dd464f03ab4cd7097d61ea98": {
          "model_module": "@jupyter-widgets/controls",
          "model_name": "HTMLModel",
          "model_module_version": "1.5.0",
          "state": {
            "_view_name": "HTMLView",
            "style": "IPY_MODEL_a273bf21ae244d84bf37f8b10a54656b",
            "_dom_classes": [],
            "description": "",
            "_model_name": "HTMLModel",
            "placeholder": "​",
            "_view_module": "@jupyter-widgets/controls",
            "_model_module_version": "1.5.0",
            "value": " 548M/548M [00:07&lt;00:00, 89.4MB/s]",
            "_view_count": null,
            "_view_module_version": "1.5.0",
            "description_tooltip": null,
            "_model_module": "@jupyter-widgets/controls",
            "layout": "IPY_MODEL_75cc8009fc9c4854abe87269a30b21e2"
          }
        },
        "28b1468f9e634a12a8387459044a2a63": {
          "model_module": "@jupyter-widgets/controls",
          "model_name": "DescriptionStyleModel",
          "model_module_version": "1.5.0",
          "state": {
            "_view_name": "StyleView",
            "_model_name": "DescriptionStyleModel",
            "description_width": "",
            "_view_module": "@jupyter-widgets/base",
            "_model_module_version": "1.5.0",
            "_view_count": null,
            "_view_module_version": "1.2.0",
            "_model_module": "@jupyter-widgets/controls"
          }
        },
        "9afe5bac1e194e788f8fa6bfbb09a58d": {
          "model_module": "@jupyter-widgets/base",
          "model_name": "LayoutModel",
          "model_module_version": "1.2.0",
          "state": {
            "_view_name": "LayoutView",
            "grid_template_rows": null,
            "right": null,
            "justify_content": null,
            "_view_module": "@jupyter-widgets/base",
            "overflow": null,
            "_model_module_version": "1.2.0",
            "_view_count": null,
            "flex_flow": null,
            "width": null,
            "min_width": null,
            "border": null,
            "align_items": null,
            "bottom": null,
            "_model_module": "@jupyter-widgets/base",
            "top": null,
            "grid_column": null,
            "overflow_y": null,
            "overflow_x": null,
            "grid_auto_flow": null,
            "grid_area": null,
            "grid_template_columns": null,
            "flex": null,
            "_model_name": "LayoutModel",
            "justify_items": null,
            "grid_row": null,
            "max_height": null,
            "align_content": null,
            "visibility": null,
            "align_self": null,
            "height": null,
            "min_height": null,
            "padding": null,
            "grid_auto_rows": null,
            "grid_gap": null,
            "max_width": null,
            "order": null,
            "_view_module_version": "1.2.0",
            "grid_template_areas": null,
            "object_position": null,
            "object_fit": null,
            "grid_auto_columns": null,
            "margin": null,
            "display": null,
            "left": null
          }
        },
        "dff5aa39155f43d0993d03d6411c8e0d": {
          "model_module": "@jupyter-widgets/controls",
          "model_name": "ProgressStyleModel",
          "model_module_version": "1.5.0",
          "state": {
            "_view_name": "StyleView",
            "_model_name": "ProgressStyleModel",
            "description_width": "",
            "_view_module": "@jupyter-widgets/base",
            "_model_module_version": "1.5.0",
            "_view_count": null,
            "_view_module_version": "1.2.0",
            "bar_color": null,
            "_model_module": "@jupyter-widgets/controls"
          }
        },
        "67d86f42308b49cf91802facf2d824e4": {
          "model_module": "@jupyter-widgets/base",
          "model_name": "LayoutModel",
          "model_module_version": "1.2.0",
          "state": {
            "_view_name": "LayoutView",
            "grid_template_rows": null,
            "right": null,
            "justify_content": null,
            "_view_module": "@jupyter-widgets/base",
            "overflow": null,
            "_model_module_version": "1.2.0",
            "_view_count": null,
            "flex_flow": null,
            "width": null,
            "min_width": null,
            "border": null,
            "align_items": null,
            "bottom": null,
            "_model_module": "@jupyter-widgets/base",
            "top": null,
            "grid_column": null,
            "overflow_y": null,
            "overflow_x": null,
            "grid_auto_flow": null,
            "grid_area": null,
            "grid_template_columns": null,
            "flex": null,
            "_model_name": "LayoutModel",
            "justify_items": null,
            "grid_row": null,
            "max_height": null,
            "align_content": null,
            "visibility": null,
            "align_self": null,
            "height": null,
            "min_height": null,
            "padding": null,
            "grid_auto_rows": null,
            "grid_gap": null,
            "max_width": null,
            "order": null,
            "_view_module_version": "1.2.0",
            "grid_template_areas": null,
            "object_position": null,
            "object_fit": null,
            "grid_auto_columns": null,
            "margin": null,
            "display": null,
            "left": null
          }
        },
        "a273bf21ae244d84bf37f8b10a54656b": {
          "model_module": "@jupyter-widgets/controls",
          "model_name": "DescriptionStyleModel",
          "model_module_version": "1.5.0",
          "state": {
            "_view_name": "StyleView",
            "_model_name": "DescriptionStyleModel",
            "description_width": "",
            "_view_module": "@jupyter-widgets/base",
            "_model_module_version": "1.5.0",
            "_view_count": null,
            "_view_module_version": "1.2.0",
            "_model_module": "@jupyter-widgets/controls"
          }
        },
        "75cc8009fc9c4854abe87269a30b21e2": {
          "model_module": "@jupyter-widgets/base",
          "model_name": "LayoutModel",
          "model_module_version": "1.2.0",
          "state": {
            "_view_name": "LayoutView",
            "grid_template_rows": null,
            "right": null,
            "justify_content": null,
            "_view_module": "@jupyter-widgets/base",
            "overflow": null,
            "_model_module_version": "1.2.0",
            "_view_count": null,
            "flex_flow": null,
            "width": null,
            "min_width": null,
            "border": null,
            "align_items": null,
            "bottom": null,
            "_model_module": "@jupyter-widgets/base",
            "top": null,
            "grid_column": null,
            "overflow_y": null,
            "overflow_x": null,
            "grid_auto_flow": null,
            "grid_area": null,
            "grid_template_columns": null,
            "flex": null,
            "_model_name": "LayoutModel",
            "justify_items": null,
            "grid_row": null,
            "max_height": null,
            "align_content": null,
            "visibility": null,
            "align_self": null,
            "height": null,
            "min_height": null,
            "padding": null,
            "grid_auto_rows": null,
            "grid_gap": null,
            "max_width": null,
            "order": null,
            "_view_module_version": "1.2.0",
            "grid_template_areas": null,
            "object_position": null,
            "object_fit": null,
            "grid_auto_columns": null,
            "margin": null,
            "display": null,
            "left": null
          }
        },
        "36b7db462ad14f438421a8a0abfb703f": {
          "model_module": "@jupyter-widgets/controls",
          "model_name": "HBoxModel",
          "model_module_version": "1.5.0",
          "state": {
            "_view_name": "HBoxView",
            "_dom_classes": [],
            "_model_name": "HBoxModel",
            "_view_module": "@jupyter-widgets/controls",
            "_model_module_version": "1.5.0",
            "_view_count": null,
            "_view_module_version": "1.5.0",
            "box_style": "",
            "layout": "IPY_MODEL_56ccefd405bc492381d98a202909135f",
            "_model_module": "@jupyter-widgets/controls",
            "children": [
              "IPY_MODEL_3c2c9edffb214de691d0dca6327604b2",
              "IPY_MODEL_b91dcaccd237430aaba3d75a20fce7ea",
              "IPY_MODEL_d1930bd34fba41c6a7199605142104b5"
            ]
          }
        },
        "56ccefd405bc492381d98a202909135f": {
          "model_module": "@jupyter-widgets/base",
          "model_name": "LayoutModel",
          "model_module_version": "1.2.0",
          "state": {
            "_view_name": "LayoutView",
            "grid_template_rows": null,
            "right": null,
            "justify_content": null,
            "_view_module": "@jupyter-widgets/base",
            "overflow": null,
            "_model_module_version": "1.2.0",
            "_view_count": null,
            "flex_flow": null,
            "width": null,
            "min_width": null,
            "border": null,
            "align_items": null,
            "bottom": null,
            "_model_module": "@jupyter-widgets/base",
            "top": null,
            "grid_column": null,
            "overflow_y": null,
            "overflow_x": null,
            "grid_auto_flow": null,
            "grid_area": null,
            "grid_template_columns": null,
            "flex": null,
            "_model_name": "LayoutModel",
            "justify_items": null,
            "grid_row": null,
            "max_height": null,
            "align_content": null,
            "visibility": null,
            "align_self": null,
            "height": null,
            "min_height": null,
            "padding": null,
            "grid_auto_rows": null,
            "grid_gap": null,
            "max_width": null,
            "order": null,
            "_view_module_version": "1.2.0",
            "grid_template_areas": null,
            "object_position": null,
            "object_fit": null,
            "grid_auto_columns": null,
            "margin": null,
            "display": null,
            "left": null
          }
        },
        "3c2c9edffb214de691d0dca6327604b2": {
          "model_module": "@jupyter-widgets/controls",
          "model_name": "HTMLModel",
          "model_module_version": "1.5.0",
          "state": {
            "_view_name": "HTMLView",
            "style": "IPY_MODEL_58b7d73536394d3e997a127fb2980c66",
            "_dom_classes": [],
            "description": "",
            "_model_name": "HTMLModel",
            "placeholder": "​",
            "_view_module": "@jupyter-widgets/controls",
            "_model_module_version": "1.5.0",
            "value": "100%",
            "_view_count": null,
            "_view_module_version": "1.5.0",
            "description_tooltip": null,
            "_model_module": "@jupyter-widgets/controls",
            "layout": "IPY_MODEL_4cf447b1c6704ab595e4800b80c8ae5d"
          }
        },
        "b91dcaccd237430aaba3d75a20fce7ea": {
          "model_module": "@jupyter-widgets/controls",
          "model_name": "FloatProgressModel",
          "model_module_version": "1.5.0",
          "state": {
            "_view_name": "ProgressView",
            "style": "IPY_MODEL_ac5502fd4232467aaf8bef2cb19ad63c",
            "_dom_classes": [],
            "description": "",
            "_model_name": "FloatProgressModel",
            "bar_style": "success",
            "max": 553507836,
            "_view_module": "@jupyter-widgets/controls",
            "_model_module_version": "1.5.0",
            "value": 553507836,
            "_view_count": null,
            "_view_module_version": "1.5.0",
            "orientation": "horizontal",
            "min": 0,
            "description_tooltip": null,
            "_model_module": "@jupyter-widgets/controls",
            "layout": "IPY_MODEL_73d721e3055a43f9b76eeef807c8ea61"
          }
        },
        "d1930bd34fba41c6a7199605142104b5": {
          "model_module": "@jupyter-widgets/controls",
          "model_name": "HTMLModel",
          "model_module_version": "1.5.0",
          "state": {
            "_view_name": "HTMLView",
            "style": "IPY_MODEL_45c741c6b8d9495ba99bea99530907df",
            "_dom_classes": [],
            "description": "",
            "_model_name": "HTMLModel",
            "placeholder": "​",
            "_view_module": "@jupyter-widgets/controls",
            "_model_module_version": "1.5.0",
            "value": " 528M/528M [00:05&lt;00:00, 97.8MB/s]",
            "_view_count": null,
            "_view_module_version": "1.5.0",
            "description_tooltip": null,
            "_model_module": "@jupyter-widgets/controls",
            "layout": "IPY_MODEL_90f9fcebc7164596b3e168ba279d3ecb"
          }
        },
        "58b7d73536394d3e997a127fb2980c66": {
          "model_module": "@jupyter-widgets/controls",
          "model_name": "DescriptionStyleModel",
          "model_module_version": "1.5.0",
          "state": {
            "_view_name": "StyleView",
            "_model_name": "DescriptionStyleModel",
            "description_width": "",
            "_view_module": "@jupyter-widgets/base",
            "_model_module_version": "1.5.0",
            "_view_count": null,
            "_view_module_version": "1.2.0",
            "_model_module": "@jupyter-widgets/controls"
          }
        },
        "4cf447b1c6704ab595e4800b80c8ae5d": {
          "model_module": "@jupyter-widgets/base",
          "model_name": "LayoutModel",
          "model_module_version": "1.2.0",
          "state": {
            "_view_name": "LayoutView",
            "grid_template_rows": null,
            "right": null,
            "justify_content": null,
            "_view_module": "@jupyter-widgets/base",
            "overflow": null,
            "_model_module_version": "1.2.0",
            "_view_count": null,
            "flex_flow": null,
            "width": null,
            "min_width": null,
            "border": null,
            "align_items": null,
            "bottom": null,
            "_model_module": "@jupyter-widgets/base",
            "top": null,
            "grid_column": null,
            "overflow_y": null,
            "overflow_x": null,
            "grid_auto_flow": null,
            "grid_area": null,
            "grid_template_columns": null,
            "flex": null,
            "_model_name": "LayoutModel",
            "justify_items": null,
            "grid_row": null,
            "max_height": null,
            "align_content": null,
            "visibility": null,
            "align_self": null,
            "height": null,
            "min_height": null,
            "padding": null,
            "grid_auto_rows": null,
            "grid_gap": null,
            "max_width": null,
            "order": null,
            "_view_module_version": "1.2.0",
            "grid_template_areas": null,
            "object_position": null,
            "object_fit": null,
            "grid_auto_columns": null,
            "margin": null,
            "display": null,
            "left": null
          }
        },
        "ac5502fd4232467aaf8bef2cb19ad63c": {
          "model_module": "@jupyter-widgets/controls",
          "model_name": "ProgressStyleModel",
          "model_module_version": "1.5.0",
          "state": {
            "_view_name": "StyleView",
            "_model_name": "ProgressStyleModel",
            "description_width": "",
            "_view_module": "@jupyter-widgets/base",
            "_model_module_version": "1.5.0",
            "_view_count": null,
            "_view_module_version": "1.2.0",
            "bar_color": null,
            "_model_module": "@jupyter-widgets/controls"
          }
        },
        "73d721e3055a43f9b76eeef807c8ea61": {
          "model_module": "@jupyter-widgets/base",
          "model_name": "LayoutModel",
          "model_module_version": "1.2.0",
          "state": {
            "_view_name": "LayoutView",
            "grid_template_rows": null,
            "right": null,
            "justify_content": null,
            "_view_module": "@jupyter-widgets/base",
            "overflow": null,
            "_model_module_version": "1.2.0",
            "_view_count": null,
            "flex_flow": null,
            "width": null,
            "min_width": null,
            "border": null,
            "align_items": null,
            "bottom": null,
            "_model_module": "@jupyter-widgets/base",
            "top": null,
            "grid_column": null,
            "overflow_y": null,
            "overflow_x": null,
            "grid_auto_flow": null,
            "grid_area": null,
            "grid_template_columns": null,
            "flex": null,
            "_model_name": "LayoutModel",
            "justify_items": null,
            "grid_row": null,
            "max_height": null,
            "align_content": null,
            "visibility": null,
            "align_self": null,
            "height": null,
            "min_height": null,
            "padding": null,
            "grid_auto_rows": null,
            "grid_gap": null,
            "max_width": null,
            "order": null,
            "_view_module_version": "1.2.0",
            "grid_template_areas": null,
            "object_position": null,
            "object_fit": null,
            "grid_auto_columns": null,
            "margin": null,
            "display": null,
            "left": null
          }
        },
        "45c741c6b8d9495ba99bea99530907df": {
          "model_module": "@jupyter-widgets/controls",
          "model_name": "DescriptionStyleModel",
          "model_module_version": "1.5.0",
          "state": {
            "_view_name": "StyleView",
            "_model_name": "DescriptionStyleModel",
            "description_width": "",
            "_view_module": "@jupyter-widgets/base",
            "_model_module_version": "1.5.0",
            "_view_count": null,
            "_view_module_version": "1.2.0",
            "_model_module": "@jupyter-widgets/controls"
          }
        },
        "90f9fcebc7164596b3e168ba279d3ecb": {
          "model_module": "@jupyter-widgets/base",
          "model_name": "LayoutModel",
          "model_module_version": "1.2.0",
          "state": {
            "_view_name": "LayoutView",
            "grid_template_rows": null,
            "right": null,
            "justify_content": null,
            "_view_module": "@jupyter-widgets/base",
            "overflow": null,
            "_model_module_version": "1.2.0",
            "_view_count": null,
            "flex_flow": null,
            "width": null,
            "min_width": null,
            "border": null,
            "align_items": null,
            "bottom": null,
            "_model_module": "@jupyter-widgets/base",
            "top": null,
            "grid_column": null,
            "overflow_y": null,
            "overflow_x": null,
            "grid_auto_flow": null,
            "grid_area": null,
            "grid_template_columns": null,
            "flex": null,
            "_model_name": "LayoutModel",
            "justify_items": null,
            "grid_row": null,
            "max_height": null,
            "align_content": null,
            "visibility": null,
            "align_self": null,
            "height": null,
            "min_height": null,
            "padding": null,
            "grid_auto_rows": null,
            "grid_gap": null,
            "max_width": null,
            "order": null,
            "_view_module_version": "1.2.0",
            "grid_template_areas": null,
            "object_position": null,
            "object_fit": null,
            "grid_auto_columns": null,
            "margin": null,
            "display": null,
            "left": null
          }
        }
      }
    }
  },
  "cells": [
    {
      "cell_type": "markdown",
      "metadata": {
        "id": "xS1SdiqdSuUp"
      },
      "source": [
        ""
      ],
      "id": "xS1SdiqdSuUp"
    },
    {
      "cell_type": "code",
      "metadata": {
        "id": "i71U-gE8r5mh",
        "colab": {
          "base_uri": "https://localhost:8080/"
        },
        "outputId": "16eee0fc-030c-4ab7-e2e8-18c5da6e5336"
      },
      "source": [
        "from __future__ import print_function, division\n",
        "\n",
        "import torch\n",
        "import torch.nn as nn\n",
        "import torch.optim as optim\n",
        "from torch.optim import lr_scheduler\n",
        "from torch.autograd import Variable\n",
        "import numpy as np\n",
        "from torch.utils.data import DataLoader\n",
        "import torchvision\n",
        "from torchvision import datasets,models,transforms\n",
        "import matplotlib.pyplot as plt\n",
        "import time\n",
        "import os\n",
        "import copy\n",
        "\n",
        "plt.ion()  \n",
        "\n",
        "use_gpu = torch.cuda.is_available()\n",
        "if use_gpu:\n",
        "    print(\"Using CUDA\")"
      ],
      "id": "i71U-gE8r5mh",
      "execution_count": 1,
      "outputs": [
        {
          "output_type": "stream",
          "name": "stdout",
          "text": [
            "Using CUDA\n"
          ]
        }
      ]
    },
    {
      "cell_type": "code",
      "metadata": {
        "id": "6X8a2A1pr5pa",
        "colab": {
          "base_uri": "https://localhost:8080/"
        },
        "outputId": "9d558b4b-7ac2-4afe-be78-bac4879ca6b0"
      },
      "source": [
        "from google.colab import drive\n",
        "drive.mount('/content/drive')"
      ],
      "id": "6X8a2A1pr5pa",
      "execution_count": 2,
      "outputs": [
        {
          "output_type": "stream",
          "name": "stdout",
          "text": [
            "Mounted at /content/drive\n"
          ]
        }
      ]
    },
    {
      "cell_type": "code",
      "metadata": {
        "id": "A-DuwjQpr5r9"
      },
      "source": [
        "!unzip -uq \"/content/drive/My Drive/Colab Notebooks/DATA_CHAMBER_2021.zip\" -d \"./\""
      ],
      "id": "A-DuwjQpr5r9",
      "execution_count": 3,
      "outputs": []
    },
    {
      "cell_type": "code",
      "metadata": {
        "id": "l7FN7WaSfID8"
      },
      "source": [
        "class ImageFolderWithPaths(datasets.ImageFolder):\n",
        "    \"\"\"Custom dataset that includes image file paths. Extends\n",
        "    torchvision.datasets.ImageFolder\n",
        "    \"\"\"\n",
        "\n",
        "    # override the __getitem__ method. this is the method that dataloader calls\n",
        "    def __getitem__(self, index):\n",
        "        # this is what ImageFolder normally returns \n",
        "        original_tuple = super(ImageFolderWithPaths, self).__getitem__(index)\n",
        "        # the image file path\n",
        "        path = self.imgs[index][0]\n",
        "        # make a new tuple that includes original and the path\n",
        "        tuple_with_path = (original_tuple + (path,))\n",
        "        return tuple_with_path"
      ],
      "id": "l7FN7WaSfID8",
      "execution_count": 4,
      "outputs": []
    },
    {
      "cell_type": "markdown",
      "metadata": {
        "id": "16evG-mMQkoL"
      },
      "source": [
        "**Hàm chọn loại xử lý hình ảnh đầu vào**\n",
        "\n",
        "ở đây chúng ta sẽ có 4 loại là raw, scale, preprocess, augmentation"
      ],
      "id": "16evG-mMQkoL"
    },
    {
      "cell_type": "code",
      "metadata": {
        "id": "hJyjxQ-mfIM1"
      },
      "source": [
        "tensor = transforms.ToTensor()\n",
        "resize = transforms.Resize(256)\n",
        "crop_224 = transforms.CenterCrop(224)\n",
        "crop_64 = transforms.CenterCrop(64)\n",
        "rotation = transforms.RandomRotation(degrees=20)\n",
        "blur = transforms.GaussianBlur(kernel_size=3)\n",
        "normalize = transforms.Normalize(mean=[0.485, 0.456, 0.406], std=[0.229, 0.224, 0.225])\n",
        "\n",
        "\n",
        "def transform(type):\n",
        "  if(type == \"raw\"):\n",
        "    train_transform =  transforms.Compose([crop_224, tensor])\n",
        "    test_transform = transforms.Compose([crop_224, tensor])\n",
        "  if(type == \"scale\"):\n",
        "    train_transform =  transforms.Compose([resize, crop_64, tensor])\n",
        "    test_transform = transforms.Compose([crop_64, tensor])\n",
        "  if(type == \"preprocess\"):\n",
        "    train_transform =  transforms.Compose([resize, crop_224, blur, tensor])\n",
        "    test_transform = transforms.Compose([crop_224, tensor])\n",
        "  if(type == \"augmentation\"):\n",
        "    train_transform =  transforms.Compose([resize, rotation, crop_224, tensor])\n",
        "    test_transform = transforms.Compose([crop_224, tensor])\n",
        "  return train_transform, test_transform"
      ],
      "id": "hJyjxQ-mfIM1",
      "execution_count": 25,
      "outputs": []
    },
    {
      "cell_type": "code",
      "metadata": {
        "id": "R9jXSa-hf3il"
      },
      "source": [
        "train_dataset_path = '../content/DATA_CHAMBER_2021/train'\n",
        "test_dataset_path = '../content/DATA_CHAMBER_2021/test'"
      ],
      "id": "R9jXSa-hf3il",
      "execution_count": 6,
      "outputs": []
    },
    {
      "cell_type": "code",
      "metadata": {
        "id": "Icb_0F7OwqGw"
      },
      "source": [
        "def prepare_dataset(train_transform, test_transform):\n",
        "  train_datasets = ImageFolderWithPaths(root = train_dataset_path, transform = train_transform)\n",
        "  test_datasets = ImageFolderWithPaths(root = test_dataset_path, transform = test_transform)\n",
        "  return train_datasets, test_datasets\n",
        "\n",
        "def prepare_dataloader(train_datasets, test_datasets):\n",
        "  train_loader = DataLoader(train_datasets, batch_size = 8, shuffle = True, num_workers = 2)\n",
        "  test_loader = DataLoader(test_datasets, batch_size = 8, shuffle = False, num_workers = 2)\n",
        "  return train_loader, test_loader"
      ],
      "id": "Icb_0F7OwqGw",
      "execution_count": 7,
      "outputs": []
    },
    {
      "cell_type": "code",
      "metadata": {
        "id": "LxsOj8JggQlJ",
        "colab": {
          "base_uri": "https://localhost:8080/"
        },
        "outputId": "61715ec0-d7cf-4e3e-c317-e59b616251d9"
      },
      "source": [
        "def set_device():\n",
        "    if torch.cuda.is_available():\n",
        "        dev = \"cuda:0\"\n",
        "    else:\n",
        "        dev = \"cpu\"\n",
        "    return torch.device(dev)\n",
        "set_device()"
      ],
      "id": "LxsOj8JggQlJ",
      "execution_count": 8,
      "outputs": [
        {
          "output_type": "execute_result",
          "data": {
            "text/plain": [
              "device(type='cuda', index=0)"
            ]
          },
          "metadata": {},
          "execution_count": 8
        }
      ]
    },
    {
      "cell_type": "markdown",
      "metadata": {
        "id": "0JKYfyGWREpD"
      },
      "source": [
        "**HÀM TẠO MÔ HÌNH**\n",
        "- Ta chọn hai mô hình là vgg16 , vgg19\n",
        "- Tương ứng với tham số truyền vào thì ta sẽ chọn ra mô hình tương ứng"
      ],
      "id": "0JKYfyGWREpD"
    },
    {
      "cell_type": "code",
      "metadata": {
        "id": "-hXPkY9kvb3K",
        "colab": {
          "base_uri": "https://localhost:8080/",
          "height": 116,
          "referenced_widgets": [
            "95d314b28d564ae182a06bb233e9c241",
            "b9d27dd8e3ee44ea8792b6939e40d408",
            "a8f718a6220a409ca563732989f5c504",
            "7079217c80eb4cc8a93388abe3d26de8",
            "d0537685dd464f03ab4cd7097d61ea98",
            "28b1468f9e634a12a8387459044a2a63",
            "9afe5bac1e194e788f8fa6bfbb09a58d",
            "dff5aa39155f43d0993d03d6411c8e0d",
            "67d86f42308b49cf91802facf2d824e4",
            "a273bf21ae244d84bf37f8b10a54656b",
            "75cc8009fc9c4854abe87269a30b21e2",
            "36b7db462ad14f438421a8a0abfb703f",
            "56ccefd405bc492381d98a202909135f",
            "3c2c9edffb214de691d0dca6327604b2",
            "b91dcaccd237430aaba3d75a20fce7ea",
            "d1930bd34fba41c6a7199605142104b5",
            "58b7d73536394d3e997a127fb2980c66",
            "4cf447b1c6704ab595e4800b80c8ae5d",
            "ac5502fd4232467aaf8bef2cb19ad63c",
            "73d721e3055a43f9b76eeef807c8ea61",
            "45c741c6b8d9495ba99bea99530907df",
            "90f9fcebc7164596b3e168ba279d3ecb"
          ]
        },
        "outputId": "8d989d0b-a5c6-459c-fee6-b90e7296b839"
      },
      "source": [
        "vgg16 = models.vgg19_bn(pretrained=True)\n",
        "vgg19 = models.vgg16_bn(pretrained=True)\n",
        "\n",
        "def create_model(name_model):\n",
        "  if(name_model == \"vgg16\"):\n",
        "    vgg = vgg16\n",
        "  if(name_model == \"vgg19\"):\n",
        "    vgg = vgg19\n",
        "  for param in vgg.features.parameters():\n",
        "    param.require_grad = False\n",
        "  # Newly created modules have require_grad=True by default\n",
        "  num_features = vgg.classifier[6].in_features\n",
        "  features = list(vgg.classifier.children())[:-1] # Remove last layer\n",
        "  features.extend([nn.Linear(num_features, 3)]) # Add our layer with 4 outputs\n",
        "  vgg.classifier = nn.Sequential(*features) # Replace the model classifier\n",
        "  return vgg"
      ],
      "id": "-hXPkY9kvb3K",
      "execution_count": 9,
      "outputs": [
        {
          "output_type": "stream",
          "name": "stderr",
          "text": [
            "Downloading: \"https://download.pytorch.org/models/vgg19_bn-c79401a0.pth\" to /root/.cache/torch/hub/checkpoints/vgg19_bn-c79401a0.pth\n"
          ]
        },
        {
          "output_type": "display_data",
          "data": {
            "application/vnd.jupyter.widget-view+json": {
              "model_id": "95d314b28d564ae182a06bb233e9c241",
              "version_minor": 0,
              "version_major": 2
            },
            "text/plain": [
              "  0%|          | 0.00/548M [00:00<?, ?B/s]"
            ]
          },
          "metadata": {}
        },
        {
          "output_type": "stream",
          "name": "stderr",
          "text": [
            "Downloading: \"https://download.pytorch.org/models/vgg16_bn-6c64b313.pth\" to /root/.cache/torch/hub/checkpoints/vgg16_bn-6c64b313.pth\n"
          ]
        },
        {
          "output_type": "display_data",
          "data": {
            "application/vnd.jupyter.widget-view+json": {
              "model_id": "36b7db462ad14f438421a8a0abfb703f",
              "version_minor": 0,
              "version_major": 2
            },
            "text/plain": [
              "  0%|          | 0.00/528M [00:00<?, ?B/s]"
            ]
          },
          "metadata": {}
        }
      ]
    },
    {
      "cell_type": "markdown",
      "metadata": {
        "id": "KHTjgyNjRhm4"
      },
      "source": [
        "**HÀM TRAIN VÀ TEST MODEL**"
      ],
      "id": "KHTjgyNjRhm4"
    },
    {
      "cell_type": "code",
      "metadata": {
        "id": "NdwWkFXtr576"
      },
      "source": [
        "def train_model(model, train_loader, train_datasets, criterion, optimizer, num_epochs):\n",
        "    train_batches = len(train_loader)\n",
        "    for epoch in range(num_epochs):\n",
        "        print('Epoch {}/{}'.format(epoch+1, num_epochs))\n",
        "        print('-' * 10)\n",
        "\n",
        "        \n",
        "        model.train()\n",
        "        running_loss = 0.0\n",
        "        running_corrects = 0\n",
        "        for i,data in enumerate(train_loader):\n",
        "          inputs, labels,_ = data\n",
        "          print(\"\\rTraining batch {}/{}\".format(i+1, train_batches), end='', flush=True)\n",
        "          inputs = inputs.to(device)\n",
        "          labels = labels.to(device)\n",
        "          \n",
        "          outputs = model(inputs)\n",
        "          loss = criterion(outputs, labels)\n",
        "          optimizer.zero_grad()\n",
        "          loss.backward()\n",
        "          optimizer.step()\n",
        "\n",
        "          _, preds = torch.max(outputs, 1)\n",
        "          running_loss += loss.item() * inputs.size(0)\n",
        "          running_corrects += torch.sum(preds == labels.data)\n",
        "\n",
        "          epoch_loss = running_loss / len(train_datasets)\n",
        "          epoch_acc = running_corrects.double() / len(train_datasets)\n",
        "\n",
        "        print('{} loss: {:.4f}, acc: {:.4f}'.format(\"train\",\n",
        "                                                        epoch_loss,\n",
        "                                                        epoch_acc))\n",
        "    return model"
      ],
      "id": "NdwWkFXtr576",
      "execution_count": 10,
      "outputs": []
    },
    {
      "cell_type": "code",
      "metadata": {
        "id": "ZChYgPGNvAMg"
      },
      "source": [
        "def test_model(model, test_loader, criterion):\n",
        "    labels_input=list()\n",
        "    labels_output=list()\n",
        "    vid_id = list()\n",
        "        \n",
        "    model.eval()\n",
        "\n",
        "    running_loss = 0.0\n",
        "    running_corrects = 0\n",
        "\n",
        "    for images, labels, fname in test_loader:\n",
        "        images = images.to(device)\n",
        "        labels = labels.to(device)\n",
        "        labels_input= labels_input + labels.tolist()\n",
        "        for f in fname:\n",
        "          vid_id.append(f.split('/')[-1].split('.')[0].split('_')[0])\n",
        "        outputs = model(images)\n",
        "            \n",
        "        loss = criterion(outputs, labels)\n",
        "        _, preds = torch.max(outputs, 1)\n",
        "            \n",
        "        labels_output= labels_output + preds.tolist()\n",
        "    return labels_input,labels_output, vid_id"
      ],
      "id": "ZChYgPGNvAMg",
      "execution_count": 11,
      "outputs": []
    },
    {
      "cell_type": "code",
      "metadata": {
        "id": "7LQ5dSHhhYbM"
      },
      "source": [
        "criterion = nn.CrossEntropyLoss()\n",
        "device = set_device()\n",
        "optimizer_ft = optim.SGD(vgg16.parameters(), lr=0.001, momentum=0.9)\n",
        "exp_lr_scheduler = lr_scheduler.StepLR(optimizer_ft, step_size=7, gamma=0.1)"
      ],
      "id": "7LQ5dSHhhYbM",
      "execution_count": 12,
      "outputs": []
    },
    {
      "cell_type": "markdown",
      "metadata": {
        "id": "jHhse5vjRsl8"
      },
      "source": [
        "# **HÀM MAIN**\n",
        "- truyền vào mô hình và loại biến đổi dữ liệu mà bạn muốn chọn để huấn luyện và test"
      ],
      "id": "jHhse5vjRsl8"
    },
    {
      "cell_type": "code",
      "metadata": {
        "id": "q7OYLCShr6J_"
      },
      "source": [
        "from sklearn.metrics import confusion_matrix,accuracy_score,classification_report\n",
        "import pandas as pd\n",
        "modelz = [\"vgg16\"] #Lựa chọn mô hình muốn sử dụng\n",
        "data = [\"raw\"] #lựa chọn cách sử lý ảnh đầu vào\n",
        "def main():\n",
        "  for namemodel in modelz:\n",
        "    models = create_model(name_model = namemodel)\n",
        "    device = set_device()\n",
        "    model = models.to(device)\n",
        "    for typ in data:\n",
        "      print(namemodel + \" - \" + typ + \":\\n\")\n",
        "      train_transform, test_transform = transform(type = typ)\n",
        "      train_datasets, test_datasets = prepare_dataset(train_transform, test_transform)\n",
        "      train_loader, test_loader = prepare_dataloader(train_datasets, test_datasets)\n",
        "      model = train_model(model, train_loader, train_datasets, criterion, optimizer_ft, num_epochs=1)\n",
        "      y_true,y_pred,vid_id = test_model(model,test_loader, criterion)\n",
        "      print(classification_report(y_true,y_pred))\n",
        "      accuracy_score(y_true, y_pred)\n",
        "      return y_true, y_pred, model\n"
      ],
      "id": "q7OYLCShr6J_",
      "execution_count": 31,
      "outputs": []
    },
    {
      "cell_type": "code",
      "metadata": {
        "id": "XJe0FMpUvoD5",
        "colab": {
          "base_uri": "https://localhost:8080/"
        },
        "outputId": "44037c21-a9cd-40bb-e369-8b8b8b800a6a"
      },
      "source": [
        "y_true,y_pred, model = main()"
      ],
      "id": "XJe0FMpUvoD5",
      "execution_count": 32,
      "outputs": [
        {
          "output_type": "stream",
          "name": "stdout",
          "text": [
            "vgg16 - raw:\n",
            "\n",
            "Epoch 1/1\n",
            "----------\n",
            "Training batch 840/840train loss: 0.0161, acc: 0.9949\n",
            "              precision    recall  f1-score   support\n",
            "\n",
            "           0       0.65      0.85      0.74       409\n",
            "           1       0.81      0.90      0.85       367\n",
            "           2       1.00      0.80      0.89       831\n",
            "\n",
            "    accuracy                           0.84      1607\n",
            "   macro avg       0.82      0.85      0.83      1607\n",
            "weighted avg       0.87      0.84      0.84      1607\n",
            "\n"
          ]
        }
      ]
    },
    {
      "cell_type": "code",
      "metadata": {
        "id": "D6UWTtuUr6Mo",
        "colab": {
          "base_uri": "https://localhost:8080/"
        },
        "outputId": "1f2c7eeb-abd7-421c-8b28-61fd148fdcaa"
      },
      "source": [
        "accuracy_score(y_true, y_pred)"
      ],
      "id": "D6UWTtuUr6Mo",
      "execution_count": 28,
      "outputs": [
        {
          "output_type": "execute_result",
          "data": {
            "text/plain": [
              "0.8780336029869322"
            ]
          },
          "metadata": {},
          "execution_count": 28
        }
      ]
    },
    {
      "cell_type": "markdown",
      "metadata": {
        "id": "4gX9m5kLSF0m"
      },
      "source": [
        "# TEST MÔ HÌNH VỚI VIDEO"
      ],
      "id": "4gX9m5kLSF0m"
    },
    {
      "cell_type": "code",
      "metadata": {
        "id": "_QXp5qnQr6Po"
      },
      "source": [
        "def video_report(model=None, testsets=None, device=\"cuda\"):\n",
        "  if testsets == None:\n",
        "    testsets = torchvision.datasets.ImageFolder(root=test_dataset_path, transform=transform_test_64)\n",
        "\n",
        "  video = namedtuple('video', ['id', \"label_true\", 'label_pred'])\n",
        "  path = [] # [158, 158, 158, 165, 165, 135, 135 ...]\n",
        "  for index, image in enumerate(testsets.imgs):\n",
        "    path.append(image[0].split(\"/\")[-1].split(\"_\")[0])\n",
        "\n",
        "  vid_list = [] # [158, 165, 135 ...]\n",
        "  for frame in path:\n",
        "    if (frame in vid_list) == False:\n",
        "      vid_list.append(frame)\n",
        "    else:\n",
        "      pass\n",
        "\n",
        "  ytrue = []\n",
        "  ypred = []\n",
        "  model.to(device)\n",
        "  with torch.no_grad():\n",
        "    model.eval()\n",
        "    for image, label in testsets:\n",
        "      image = image.unsqueeze(0).to(device)\n",
        "      output = model(image)\n",
        "      _, predicted = torch.max(output, dim=1)\n",
        "      ytrue.append(label)\n",
        "      ypred += list(predicted.cpu().numpy())\n",
        "\n",
        "  outputs_vid = []\n",
        "  ytrue_video = []\n",
        "  ypred_video = []\n",
        "  for vid_id in vid_list:\n",
        "    vid_true = []\n",
        "    vid_pred = []\n",
        "    for index, img in enumerate(path):\n",
        "      if img == vid_id:\n",
        "        vid_true.append(ytrue[index])\n",
        "        vid_pred.append(ypred[index])\n",
        "\n",
        "    rate_video_true = [0, 0, 0] # vector count for voting\n",
        "    rate_video_pred = [0, 0, 0]\n",
        "    for label in range(3):\n",
        "      rate_video_true[label] = list(vid_true).count(label)\n",
        "      rate_video_pred[label] = list(vid_pred).count(label)\n",
        "    \n",
        "    label_video_true = np.argmax(rate_video_true)\n",
        "    label_video_pred = np.argmax(rate_video_pred)\n",
        "\n",
        "    print(\"id:\", vid_id, \", true:\", label_video_true, \", pred:\",label_video_pred) # label pred\n",
        "    ytrue_video.append(label_video_true)\n",
        "    ypred_video.append(label_video_pred)\n",
        "    outputs_vid.append(video(id=vid_id, label_true=label_video_true, label_pred=label_video_pred))\n",
        "  print(classification_report(ytrue_video, ypred_video, target_names=get_classes()))\n",
        "  return outputs_vid"
      ],
      "id": "_QXp5qnQr6Po",
      "execution_count": 33,
      "outputs": []
    },
    {
      "cell_type": "code",
      "metadata": {
        "id": "damE6LbAP1ru"
      },
      "source": [
        "def get_classes():\n",
        "  classes = ['2C', '3C', '4C']\n",
        "  return classes"
      ],
      "id": "damE6LbAP1ru",
      "execution_count": 36,
      "outputs": []
    },
    {
      "cell_type": "code",
      "metadata": {
        "id": "XgKYn5Vxr6SP",
        "colab": {
          "base_uri": "https://localhost:8080/"
        },
        "outputId": "c5de30ee-6ccb-464e-d2a9-d370841eec52"
      },
      "source": [
        "from collections import namedtuple\n",
        "transform_raw = transforms.Compose([crop_224, tensor])\n",
        "testsets = torchvision.datasets.ImageFolder(root=test_dataset_path, transform=transform_raw)\n",
        "video_report(model=model, testsets=testsets,device =\"cuda\")"
      ],
      "id": "XgKYn5Vxr6SP",
      "execution_count": 37,
      "outputs": [
        {
          "output_type": "stream",
          "name": "stdout",
          "text": [
            "id: 158 , true: 0 , pred: 0\n",
            "id: 165 , true: 0 , pred: 0\n",
            "id: 168 , true: 0 , pred: 0\n",
            "id: 169 , true: 0 , pred: 0\n",
            "id: 171 , true: 0 , pred: 0\n",
            "id: 176 , true: 0 , pred: 0\n",
            "id: 177 , true: 0 , pred: 0\n",
            "id: 178 , true: 0 , pred: 0\n",
            "id: 181 , true: 0 , pred: 1\n",
            "id: 183 , true: 0 , pred: 0\n",
            "id: 191 , true: 0 , pred: 0\n",
            "id: 192 , true: 0 , pred: 0\n",
            "id: 157 , true: 1 , pred: 1\n",
            "id: 159 , true: 1 , pred: 1\n",
            "id: 161 , true: 1 , pred: 1\n",
            "id: 162 , true: 1 , pred: 1\n",
            "id: 166 , true: 1 , pred: 1\n",
            "id: 174 , true: 1 , pred: 0\n",
            "id: 175 , true: 1 , pred: 1\n",
            "id: 179 , true: 1 , pred: 1\n",
            "id: 185 , true: 1 , pred: 1\n",
            "id: 186 , true: 1 , pred: 1\n",
            "id: 189 , true: 1 , pred: 1\n",
            "id: 190 , true: 1 , pred: 1\n",
            "id: 194 , true: 1 , pred: 1\n",
            "id: 160 , true: 2 , pred: 2\n",
            "id: 163 , true: 2 , pred: 0\n",
            "id: 164 , true: 2 , pred: 2\n",
            "id: 167 , true: 2 , pred: 2\n",
            "id: 170 , true: 2 , pred: 2\n",
            "id: 172 , true: 2 , pred: 2\n",
            "id: 173 , true: 2 , pred: 2\n",
            "id: 180 , true: 2 , pred: 2\n",
            "id: 182 , true: 2 , pred: 2\n",
            "id: 184 , true: 2 , pred: 2\n",
            "id: 187 , true: 2 , pred: 2\n",
            "id: 188 , true: 2 , pred: 0\n",
            "id: 193 , true: 2 , pred: 2\n",
            "id: 195 , true: 2 , pred: 0\n",
            "              precision    recall  f1-score   support\n",
            "\n",
            "          2C       0.73      0.92      0.81        12\n",
            "          3C       0.92      0.92      0.92        13\n",
            "          4C       1.00      0.79      0.88        14\n",
            "\n",
            "    accuracy                           0.87        39\n",
            "   macro avg       0.89      0.88      0.87        39\n",
            "weighted avg       0.89      0.87      0.87        39\n",
            "\n"
          ]
        },
        {
          "output_type": "execute_result",
          "data": {
            "text/plain": [
              "[video(id='158', label_true=0, label_pred=0),\n",
              " video(id='165', label_true=0, label_pred=0),\n",
              " video(id='168', label_true=0, label_pred=0),\n",
              " video(id='169', label_true=0, label_pred=0),\n",
              " video(id='171', label_true=0, label_pred=0),\n",
              " video(id='176', label_true=0, label_pred=0),\n",
              " video(id='177', label_true=0, label_pred=0),\n",
              " video(id='178', label_true=0, label_pred=0),\n",
              " video(id='181', label_true=0, label_pred=1),\n",
              " video(id='183', label_true=0, label_pred=0),\n",
              " video(id='191', label_true=0, label_pred=0),\n",
              " video(id='192', label_true=0, label_pred=0),\n",
              " video(id='157', label_true=1, label_pred=1),\n",
              " video(id='159', label_true=1, label_pred=1),\n",
              " video(id='161', label_true=1, label_pred=1),\n",
              " video(id='162', label_true=1, label_pred=1),\n",
              " video(id='166', label_true=1, label_pred=1),\n",
              " video(id='174', label_true=1, label_pred=0),\n",
              " video(id='175', label_true=1, label_pred=1),\n",
              " video(id='179', label_true=1, label_pred=1),\n",
              " video(id='185', label_true=1, label_pred=1),\n",
              " video(id='186', label_true=1, label_pred=1),\n",
              " video(id='189', label_true=1, label_pred=1),\n",
              " video(id='190', label_true=1, label_pred=1),\n",
              " video(id='194', label_true=1, label_pred=1),\n",
              " video(id='160', label_true=2, label_pred=2),\n",
              " video(id='163', label_true=2, label_pred=0),\n",
              " video(id='164', label_true=2, label_pred=2),\n",
              " video(id='167', label_true=2, label_pred=2),\n",
              " video(id='170', label_true=2, label_pred=2),\n",
              " video(id='172', label_true=2, label_pred=2),\n",
              " video(id='173', label_true=2, label_pred=2),\n",
              " video(id='180', label_true=2, label_pred=2),\n",
              " video(id='182', label_true=2, label_pred=2),\n",
              " video(id='184', label_true=2, label_pred=2),\n",
              " video(id='187', label_true=2, label_pred=2),\n",
              " video(id='188', label_true=2, label_pred=0),\n",
              " video(id='193', label_true=2, label_pred=2),\n",
              " video(id='195', label_true=2, label_pred=0)]"
            ]
          },
          "metadata": {},
          "execution_count": 37
        }
      ]
    },
    {
      "cell_type": "code",
      "metadata": {
        "id": "DXXMLhBvr6VQ"
      },
      "source": [
        ""
      ],
      "id": "DXXMLhBvr6VQ",
      "execution_count": null,
      "outputs": []
    },
    {
      "cell_type": "code",
      "metadata": {
        "id": "xXjz6ve6r6Xs"
      },
      "source": [
        ""
      ],
      "id": "xXjz6ve6r6Xs",
      "execution_count": null,
      "outputs": []
    }
  ]
}