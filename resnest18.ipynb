{
 "cells": [
  {
   "cell_type": "code",
   "execution_count": 1,
   "id": "d359e3dd",
   "metadata": {},
   "outputs": [
    {
     "name": "stdout",
     "output_type": "stream",
     "text": [
      "total 491M\r\n",
      "drwxrwxr-x  5 hoang hoang 4,0K Thg 11 15 20:00 .\r\n",
      "drwxrwxr-x 12 hoang hoang 4,0K Thg 11 14 00:36 ..\r\n",
      "drwxr-xr-x  4 hoang hoang 4,0K Thg 9   5 10:51 DATA_CHAMBER_2021\r\n",
      "-rw-rw-r--  1 hoang hoang 491M Thg 11 14 00:36 DATA_CHAMBER_2021.zip\r\n",
      "drwxrwxr-x  2 hoang hoang 4,0K Thg 11 14 16:17 .ipynb_checkpoints\r\n",
      "drwxrwxr-x  3 hoang hoang 4,0K Thg 11 14 01:02 __MACOSX\r\n",
      "-rw-rw-r--  1 hoang hoang 9,4K Thg 11 15 20:00 Untitled1.ipynb\r\n",
      "-rw-rw-r--  1 hoang hoang 5,6K Thg 11 15 04:31 Untitled2.ipynb\r\n",
      "-rw-rw-r--  1 hoang hoang  70K Thg 11 14 01:23 Untitled.ipynb\r\n"
     ]
    }
   ],
   "source": [
    "!ls -alh"
   ]
  },
  {
   "cell_type": "code",
   "execution_count": 2,
   "id": "cc33b3aa",
   "metadata": {},
   "outputs": [],
   "source": [
    "train_dataset_path = './DATA_CHAMBER_2021/train'\n",
    "test_dataset_path = './DATA_CHAMBER_2021/test'"
   ]
  },
  {
   "cell_type": "code",
   "execution_count": 3,
   "id": "6a97f2e9",
   "metadata": {},
   "outputs": [],
   "source": [
    "import os\n",
    "import torch\n",
    "from torchvision import transforms\n",
    "from torch.utils.data import DataLoader\n",
    "import torchvision\n",
    "import torchvision.models as models\n",
    "import torch.nn as nn\n",
    "import torch.optim as optim"
   ]
  },
  {
   "cell_type": "code",
   "execution_count": 4,
   "id": "470a9743",
   "metadata": {},
   "outputs": [
    {
     "data": {
      "text/plain": [
       "['4C', '2C', '3C', '.DS_Store']"
      ]
     },
     "execution_count": 4,
     "metadata": {},
     "output_type": "execute_result"
    }
   ],
   "source": [
    "os.listdir(train_dataset_path)"
   ]
  },
  {
   "cell_type": "code",
   "execution_count": 5,
   "id": "9c8d368f",
   "metadata": {},
   "outputs": [],
   "source": [
    "transform = transforms.Compose([\n",
    "    transforms.Resize(256),\n",
    "    transforms.CenterCrop(224),\n",
    "    transforms.ToTensor(),\n",
    "    transforms.Normalize(mean=[0.485, 0.456, 0.406], std=[0.229, 0.224, 0.225]),\n",
    "])"
   ]
  },
  {
   "cell_type": "code",
   "execution_count": 6,
   "id": "5f00ed38",
   "metadata": {},
   "outputs": [],
   "source": [
    "train_datasets = torchvision.datasets.ImageFolder(root = train_dataset_path, transform = transform)\n",
    "test_datasets = torchvision.datasets.ImageFolder(root = test_dataset_path, transform = transform)"
   ]
  },
  {
   "cell_type": "code",
   "execution_count": 7,
   "id": "b32dbc69",
   "metadata": {},
   "outputs": [],
   "source": [
    "train_loader = DataLoader(train_datasets, batch_size = 8, shuffle = True, num_workers = 2)\n",
    "test_loader = DataLoader(test_datasets, batch_size = 8, shuffle = False, num_workers = 2)"
   ]
  },
  {
   "cell_type": "markdown",
   "id": "b3e87952",
   "metadata": {},
   "source": [
    "# THIẾT BỊ"
   ]
  },
  {
   "cell_type": "code",
   "execution_count": 8,
   "id": "2238799e",
   "metadata": {},
   "outputs": [
    {
     "data": {
      "text/plain": [
       "device(type='cpu')"
      ]
     },
     "execution_count": 8,
     "metadata": {},
     "output_type": "execute_result"
    }
   ],
   "source": [
    "def set_device():\n",
    "    if torch.cuda.is_available():\n",
    "        dev = \"cuda:0\"\n",
    "    else:\n",
    "        dev = \"cpu\"\n",
    "    return torch.device(dev)\n",
    "set_device()"
   ]
  },
  {
   "cell_type": "code",
   "execution_count": 9,
   "id": "928b8e0e",
   "metadata": {},
   "outputs": [],
   "source": [
    "def train_model(model, train_loader, criterion, optimizer, n_epochs):\n",
    "    for epoch in range(n_epochs):\n",
    "        print('Epoch {}/{}'.format(epoch+1, n_epochs))\n",
    "        print('-' * 10)\n",
    "        \n",
    "        model.train()\n",
    "        running_loss = 0.0\n",
    "        running_correct = 0.0\n",
    "        total = 0\n",
    "        \n",
    "        for data in train_loader:\n",
    "            images, labels = data\n",
    "            images = images.to(device)\n",
    "            labels = labels.to(device)\n",
    "            total += labels.size(0)\n",
    "            \n",
    "            optimizer.zero_grad()\n",
    "            \n",
    "            outputs = model(images)\n",
    "            \n",
    "            _, predicted = torch.max(outputs.data, 1)\n",
    "            \n",
    "            loss = criterion(outputs, labels)\n",
    "            \n",
    "            loss.backward()\n",
    "            \n",
    "            optimizer.step()\n",
    "            \n",
    "            running_loss += loss.item()\n",
    "            running_correct += (labels==predicted).sum().item()\n",
    "        \n",
    "        epoch_loss = running_loss/len(train_loader)\n",
    "        epoch_acc = 100.00 * running_correct / total\n",
    "        print('{} loss: {:.4f}, acc: {:.4f}'.format(total, epoch_loss, epoch_acc))\n",
    "\n",
    "    return model"
   ]
  },
  {
   "cell_type": "markdown",
   "id": "6399647b",
   "metadata": {},
   "source": [
    "# RESNET18"
   ]
  },
  {
   "cell_type": "code",
   "execution_count": 10,
   "id": "08488919",
   "metadata": {},
   "outputs": [
    {
     "name": "stderr",
     "output_type": "stream",
     "text": [
      "Downloading: \"https://download.pytorch.org/models/resnet18-f37072fd.pth\" to /home/hoang/.cache/torch/hub/checkpoints/resnet18-f37072fd.pth\n"
     ]
    },
    {
     "data": {
      "application/vnd.jupyter.widget-view+json": {
       "model_id": "0b9055ec43504b3eb23e90eb146c588f",
       "version_major": 2,
       "version_minor": 0
      },
      "text/plain": [
       "  0%|          | 0.00/44.7M [00:00<?, ?B/s]"
      ]
     },
     "metadata": {},
     "output_type": "display_data"
    }
   ],
   "source": [
    "resnet18_model = models.resnet18(pretrained=True)\n",
    "num_ftrs = resnet18_model.fc.in_features\n",
    "number_of_classes = 3\n",
    "resnet18_model.fc = nn.Linear(num_ftrs, number_of_classes)\n",
    "device = set_device()\n",
    "resnet_18_model = resnet18_model.to(device)\n",
    "loss_fn = nn.CrossEntropyLoss()\n",
    "\n",
    "optimizer = optim.SGD(resnet18_model.parameters(), lr=0.01, momentum=0.9, weight_decay=0.003)"
   ]
  },
  {
   "cell_type": "code",
   "execution_count": 11,
   "id": "81f9a92d",
   "metadata": {},
   "outputs": [
    {
     "name": "stdout",
     "output_type": "stream",
     "text": [
      "Epoch 1/20\n",
      "----------\n",
      "6717 loss: 0.4822, acc: 87.7028\n",
      "Epoch 2/20\n",
      "----------\n",
      "6717 loss: 0.0367, acc: 98.9132\n",
      "Epoch 3/20\n",
      "----------\n",
      "6717 loss: 0.0364, acc: 98.8983\n",
      "Epoch 4/20\n",
      "----------\n",
      "6717 loss: 0.0242, acc: 99.3449\n",
      "Epoch 5/20\n",
      "----------\n",
      "6717 loss: 0.0303, acc: 99.0919\n",
      "Epoch 6/20\n",
      "----------\n",
      "6717 loss: 0.0234, acc: 99.4194\n",
      "Epoch 7/20\n",
      "----------\n",
      "6717 loss: 0.0407, acc: 99.0174\n",
      "Epoch 8/20\n",
      "----------\n",
      "6717 loss: 0.0364, acc: 99.1514\n",
      "Epoch 9/20\n",
      "----------\n",
      "6717 loss: 0.0315, acc: 99.2407\n",
      "Epoch 10/20\n",
      "----------\n",
      "6717 loss: 0.0252, acc: 99.4938\n",
      "Epoch 11/20\n",
      "----------\n",
      "6717 loss: 0.0083, acc: 100.0000\n",
      "Epoch 12/20\n",
      "----------\n",
      "6717 loss: 0.0829, acc: 97.2756\n",
      "Epoch 13/20\n",
      "----------\n",
      "6717 loss: 0.0310, acc: 99.3747\n",
      "Epoch 14/20\n",
      "----------\n",
      "6717 loss: 0.0381, acc: 99.0621\n",
      "Epoch 15/20\n",
      "----------\n",
      "6717 loss: 0.0344, acc: 99.2556\n",
      "Epoch 16/20\n",
      "----------\n",
      "6717 loss: 0.0422, acc: 99.1216\n",
      "Epoch 17/20\n",
      "----------\n",
      "6717 loss: 0.0345, acc: 99.1812\n",
      "Epoch 18/20\n",
      "----------\n",
      "6717 loss: 0.0222, acc: 99.5385\n",
      "Epoch 19/20\n",
      "----------\n",
      "6717 loss: 0.0424, acc: 99.0174\n",
      "Epoch 20/20\n",
      "----------\n",
      "6717 loss: 0.0189, acc: 99.7022\n"
     ]
    },
    {
     "data": {
      "text/plain": [
       "ResNet(\n",
       "  (conv1): Conv2d(3, 64, kernel_size=(7, 7), stride=(2, 2), padding=(3, 3), bias=False)\n",
       "  (bn1): BatchNorm2d(64, eps=1e-05, momentum=0.1, affine=True, track_running_stats=True)\n",
       "  (relu): ReLU(inplace=True)\n",
       "  (maxpool): MaxPool2d(kernel_size=3, stride=2, padding=1, dilation=1, ceil_mode=False)\n",
       "  (layer1): Sequential(\n",
       "    (0): BasicBlock(\n",
       "      (conv1): Conv2d(64, 64, kernel_size=(3, 3), stride=(1, 1), padding=(1, 1), bias=False)\n",
       "      (bn1): BatchNorm2d(64, eps=1e-05, momentum=0.1, affine=True, track_running_stats=True)\n",
       "      (relu): ReLU(inplace=True)\n",
       "      (conv2): Conv2d(64, 64, kernel_size=(3, 3), stride=(1, 1), padding=(1, 1), bias=False)\n",
       "      (bn2): BatchNorm2d(64, eps=1e-05, momentum=0.1, affine=True, track_running_stats=True)\n",
       "    )\n",
       "    (1): BasicBlock(\n",
       "      (conv1): Conv2d(64, 64, kernel_size=(3, 3), stride=(1, 1), padding=(1, 1), bias=False)\n",
       "      (bn1): BatchNorm2d(64, eps=1e-05, momentum=0.1, affine=True, track_running_stats=True)\n",
       "      (relu): ReLU(inplace=True)\n",
       "      (conv2): Conv2d(64, 64, kernel_size=(3, 3), stride=(1, 1), padding=(1, 1), bias=False)\n",
       "      (bn2): BatchNorm2d(64, eps=1e-05, momentum=0.1, affine=True, track_running_stats=True)\n",
       "    )\n",
       "  )\n",
       "  (layer2): Sequential(\n",
       "    (0): BasicBlock(\n",
       "      (conv1): Conv2d(64, 128, kernel_size=(3, 3), stride=(2, 2), padding=(1, 1), bias=False)\n",
       "      (bn1): BatchNorm2d(128, eps=1e-05, momentum=0.1, affine=True, track_running_stats=True)\n",
       "      (relu): ReLU(inplace=True)\n",
       "      (conv2): Conv2d(128, 128, kernel_size=(3, 3), stride=(1, 1), padding=(1, 1), bias=False)\n",
       "      (bn2): BatchNorm2d(128, eps=1e-05, momentum=0.1, affine=True, track_running_stats=True)\n",
       "      (downsample): Sequential(\n",
       "        (0): Conv2d(64, 128, kernel_size=(1, 1), stride=(2, 2), bias=False)\n",
       "        (1): BatchNorm2d(128, eps=1e-05, momentum=0.1, affine=True, track_running_stats=True)\n",
       "      )\n",
       "    )\n",
       "    (1): BasicBlock(\n",
       "      (conv1): Conv2d(128, 128, kernel_size=(3, 3), stride=(1, 1), padding=(1, 1), bias=False)\n",
       "      (bn1): BatchNorm2d(128, eps=1e-05, momentum=0.1, affine=True, track_running_stats=True)\n",
       "      (relu): ReLU(inplace=True)\n",
       "      (conv2): Conv2d(128, 128, kernel_size=(3, 3), stride=(1, 1), padding=(1, 1), bias=False)\n",
       "      (bn2): BatchNorm2d(128, eps=1e-05, momentum=0.1, affine=True, track_running_stats=True)\n",
       "    )\n",
       "  )\n",
       "  (layer3): Sequential(\n",
       "    (0): BasicBlock(\n",
       "      (conv1): Conv2d(128, 256, kernel_size=(3, 3), stride=(2, 2), padding=(1, 1), bias=False)\n",
       "      (bn1): BatchNorm2d(256, eps=1e-05, momentum=0.1, affine=True, track_running_stats=True)\n",
       "      (relu): ReLU(inplace=True)\n",
       "      (conv2): Conv2d(256, 256, kernel_size=(3, 3), stride=(1, 1), padding=(1, 1), bias=False)\n",
       "      (bn2): BatchNorm2d(256, eps=1e-05, momentum=0.1, affine=True, track_running_stats=True)\n",
       "      (downsample): Sequential(\n",
       "        (0): Conv2d(128, 256, kernel_size=(1, 1), stride=(2, 2), bias=False)\n",
       "        (1): BatchNorm2d(256, eps=1e-05, momentum=0.1, affine=True, track_running_stats=True)\n",
       "      )\n",
       "    )\n",
       "    (1): BasicBlock(\n",
       "      (conv1): Conv2d(256, 256, kernel_size=(3, 3), stride=(1, 1), padding=(1, 1), bias=False)\n",
       "      (bn1): BatchNorm2d(256, eps=1e-05, momentum=0.1, affine=True, track_running_stats=True)\n",
       "      (relu): ReLU(inplace=True)\n",
       "      (conv2): Conv2d(256, 256, kernel_size=(3, 3), stride=(1, 1), padding=(1, 1), bias=False)\n",
       "      (bn2): BatchNorm2d(256, eps=1e-05, momentum=0.1, affine=True, track_running_stats=True)\n",
       "    )\n",
       "  )\n",
       "  (layer4): Sequential(\n",
       "    (0): BasicBlock(\n",
       "      (conv1): Conv2d(256, 512, kernel_size=(3, 3), stride=(2, 2), padding=(1, 1), bias=False)\n",
       "      (bn1): BatchNorm2d(512, eps=1e-05, momentum=0.1, affine=True, track_running_stats=True)\n",
       "      (relu): ReLU(inplace=True)\n",
       "      (conv2): Conv2d(512, 512, kernel_size=(3, 3), stride=(1, 1), padding=(1, 1), bias=False)\n",
       "      (bn2): BatchNorm2d(512, eps=1e-05, momentum=0.1, affine=True, track_running_stats=True)\n",
       "      (downsample): Sequential(\n",
       "        (0): Conv2d(256, 512, kernel_size=(1, 1), stride=(2, 2), bias=False)\n",
       "        (1): BatchNorm2d(512, eps=1e-05, momentum=0.1, affine=True, track_running_stats=True)\n",
       "      )\n",
       "    )\n",
       "    (1): BasicBlock(\n",
       "      (conv1): Conv2d(512, 512, kernel_size=(3, 3), stride=(1, 1), padding=(1, 1), bias=False)\n",
       "      (bn1): BatchNorm2d(512, eps=1e-05, momentum=0.1, affine=True, track_running_stats=True)\n",
       "      (relu): ReLU(inplace=True)\n",
       "      (conv2): Conv2d(512, 512, kernel_size=(3, 3), stride=(1, 1), padding=(1, 1), bias=False)\n",
       "      (bn2): BatchNorm2d(512, eps=1e-05, momentum=0.1, affine=True, track_running_stats=True)\n",
       "    )\n",
       "  )\n",
       "  (avgpool): AdaptiveAvgPool2d(output_size=(1, 1))\n",
       "  (fc): Linear(in_features=512, out_features=3, bias=True)\n",
       ")"
      ]
     },
     "execution_count": 11,
     "metadata": {},
     "output_type": "execute_result"
    }
   ],
   "source": [
    "train_model(resnet18_model, train_loader, loss_fn, optimizer, 20)"
   ]
  },
  {
   "cell_type": "code",
   "execution_count": 13,
   "id": "979f4c39",
   "metadata": {},
   "outputs": [],
   "source": [
    "def test_model(model, test_loader, criterion, optimizer):\n",
    "    labels_input=list()\n",
    "    labels_output=list()\n",
    "    vid_id = list()\n",
    "        \n",
    "    model.eval()\n",
    "\n",
    "    running_loss = 0.0\n",
    "    running_corrects = 0\n",
    "\n",
    "    for images, labels in test_loader:\n",
    "        images = images.to(device)\n",
    "        labels = labels.to(device)\n",
    "        labels_input= labels_input + labels.tolist()\n",
    "    \n",
    "        outputs = model(images)\n",
    "            \n",
    "        loss = criterion(outputs, labels)\n",
    "        _, preds = torch.max(outputs, 1)\n",
    "            \n",
    "        labels_output= labels_output + preds.tolist()\n",
    "    return labels_input,labels_output\n",
    "\n",
    "y_true,y_pred = test_model(resnet18_model, test_loader, loss_fn, optimizer)"
   ]
  },
  {
   "cell_type": "code",
   "execution_count": 14,
   "id": "c9fc01b9",
   "metadata": {},
   "outputs": [
    {
     "name": "stdout",
     "output_type": "stream",
     "text": [
      "              precision    recall  f1-score   support\n",
      "\n",
      "           0       0.86      1.00      0.93       409\n",
      "           1       0.99      0.88      0.94       367\n",
      "           2       1.00      0.97      0.99       831\n",
      "\n",
      "    accuracy                           0.96      1607\n",
      "   macro avg       0.95      0.95      0.95      1607\n",
      "weighted avg       0.96      0.96      0.96      1607\n",
      "\n"
     ]
    },
    {
     "data": {
      "text/plain": [
       "0.9583074051026758"
      ]
     },
     "execution_count": 14,
     "metadata": {},
     "output_type": "execute_result"
    }
   ],
   "source": [
    "from sklearn.metrics import confusion_matrix,accuracy_score,classification_report\n",
    "print(classification_report(y_true,y_pred))\n",
    "accuracy_score(y_true, y_pred)"
   ]
  },
  {
   "cell_type": "code",
   "execution_count": null,
   "id": "f989c15d",
   "metadata": {},
   "outputs": [],
   "source": []
  }
 ],
 "metadata": {
  "kernelspec": {
   "display_name": "Python 3",
   "language": "python",
   "name": "python3"
  },
  "language_info": {
   "codemirror_mode": {
    "name": "ipython",
    "version": 3
   },
   "file_extension": ".py",
   "mimetype": "text/x-python",
   "name": "python",
   "nbconvert_exporter": "python",
   "pygments_lexer": "ipython3",
   "version": "3.8.8"
  }
 },
 "nbformat": 4,
 "nbformat_minor": 5
}
