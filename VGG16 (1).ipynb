{
  "nbformat": 4,
  "nbformat_minor": 5,
  "metadata": {
    "kernelspec": {
      "display_name": "Python 3",
      "language": "python",
      "name": "python3"
    },
    "language_info": {
      "codemirror_mode": {
        "name": "ipython",
        "version": 3
      },
      "file_extension": ".py",
      "mimetype": "text/x-python",
      "name": "python",
      "nbconvert_exporter": "python",
      "pygments_lexer": "ipython3",
      "version": "3.8.8"
    },
    "colab": {
      "name": "VGG16.ipynb",
      "provenance": [],
      "collapsed_sections": []
    }
  },
  "cells": [
    {
      "cell_type": "code",
      "metadata": {
        "id": "i71U-gE8r5mh"
      },
      "source": [
        "import numpy as np\n",
        "%matplotlib inline\n",
        "import matplotlib.pyplot as plt\n",
        "from PIL import Image\n",
        "import torch\n",
        "from torchvision import datasets, models, transforms\n",
        "import torch.nn as nn\n",
        "from torch.nn import functional as F\n",
        "import torch.optim as optim\n",
        "import torchvision\n",
        "from torch.autograd import Variable\n",
        "import time\n",
        "from torch.utils.data import DataLoader\n",
        " \n",
        "input_path = \"../content/DATA_CHAMBER_2021/\"\n"
      ],
      "id": "i71U-gE8r5mh",
      "execution_count": 7,
      "outputs": []
    },
    {
      "cell_type": "code",
      "metadata": {
        "colab": {
          "base_uri": "https://localhost:8080/"
        },
        "id": "6X8a2A1pr5pa",
        "outputId": "896bf9ec-dc89-4c0b-a509-79acd0969813"
      },
      "source": [
        "from google.colab import drive\n",
        "drive.mount('/content/drive')"
      ],
      "id": "6X8a2A1pr5pa",
      "execution_count": 9,
      "outputs": [
        {
          "output_type": "stream",
          "name": "stdout",
          "text": [
            "Mounted at /content/drive\n"
          ]
        }
      ]
    },
    {
      "cell_type": "code",
      "metadata": {
        "id": "A-DuwjQpr5r9"
      },
      "source": [
        "!unzip -uq \"/content/drive/My Drive/Colab Notebooks/DATA_CHAMBER_2021.zip\" -d \"./\""
      ],
      "id": "A-DuwjQpr5r9",
      "execution_count": 10,
      "outputs": []
    },
    {
      "cell_type": "code",
      "metadata": {
        "colab": {
          "base_uri": "https://localhost:8080/"
        },
        "id": "RuYr7jJZr5u8",
        "outputId": "c90db90b-04e6-4705-99d3-43845feb0afd"
      },
      "source": [
        "tensor = transforms.ToTensor()\n",
        "resise = transforms.Resize(256)\n",
        "crop_224 = transforms.CenterCrop(224)\n",
        "crop_64 = transforms.CenterCrop(64)\n",
        "rotation = transforms.RandomRotation(degrees=20)\n",
        "blur = transforms.GaussianBlur(kernel_size=3)\n",
        "normalize = transforms.Normalize(mean=[0.485, 0.456, 0.406], std=[0.229, 0.224, 0.225])\n",
        "\n",
        "\n",
        "#transforms for train set\n",
        "transform_train_224 = transforms.Compose([crop_224, tensor])\n",
        "transform_train_64 = transforms.Compose([crop_64, tensor])\n",
        "\n",
        "#transforms for test set\n",
        "transform_test_224 = transforms.Compose([crop_224, tensor])\n",
        "transform_test_64 = transforms.Compose([crop_64, tensor])\n",
        "\n",
        "def create_transforms(name = 0):\n",
        "  if(name == 0):\n",
        "    transforms_train = transform_train_224\n",
        "    transforms_test = transform_test_224\n",
        "  elif (name == 1):\n",
        "    transforms_train = transform_train_64\n",
        "    transforms_test = transform_test_64\n",
        "\n",
        "  return transforms_train, transforms_test\n",
        "create_tranforms(0)"
      ],
      "id": "RuYr7jJZr5u8",
      "execution_count": 48,
      "outputs": [
        {
          "output_type": "execute_result",
          "data": {
            "text/plain": [
              "(Compose(\n",
              "     CenterCrop(size=(224, 224))\n",
              "     ToTensor()\n",
              " ), Compose(\n",
              "     CenterCrop(size=(224, 224))\n",
              "     ToTensor()\n",
              " ))"
            ]
          },
          "metadata": {},
          "execution_count": 48
        }
      ]
    },
    {
      "cell_type": "code",
      "metadata": {
        "id": "IrkpmjORr5xx"
      },
      "source": [
        "train_dataset_path = input_path + \"train\"\n",
        "test_dataset_path = input_path + \"test\"\n",
        "def get_classes():\n",
        "  classes = ['2C', '3C', '4C']\n",
        "  return classes\n",
        "\n",
        "def prepare_datasets(transform_train, transform_test):\n",
        "  trainset = torchvision.datasets.ImageFolder(root = train_dataset_path, transform=transform_train)\n",
        "  testset = torchvision.datasets.ImageFolder(root = test_dataset_path, transform=transform_test)\n",
        "  return trainset, testset\n",
        "\n",
        "def prepare_dataloader(trainset, testset):\n",
        "  trainloader = DataLoader(trainset, batch_size = 8, shuffle = True, num_workers = 2)\n",
        "  testloader = DataLoader(testset, batch_size = 8, shuffle = False, num_workers = 2)\n",
        "  return trainloader, testloader"
      ],
      "id": "IrkpmjORr5xx",
      "execution_count": 25,
      "outputs": []
    },
    {
      "cell_type": "code",
      "metadata": {
        "colab": {
          "base_uri": "https://localhost:8080/"
        },
        "id": "gzvEc_4_r55R",
        "outputId": "49c462a3-69dc-4574-9445-2f6a1fa505fc"
      },
      "source": [
        "def set_device():\n",
        "    if torch.cuda.is_available():\n",
        "        dev = \"cuda:0\"\n",
        "    else:\n",
        "        dev = \"cpu\"\n",
        "    return torch.device(dev)\n",
        "set_device()"
      ],
      "id": "gzvEc_4_r55R",
      "execution_count": 26,
      "outputs": [
        {
          "output_type": "execute_result",
          "data": {
            "text/plain": [
              "device(type='cpu')"
            ]
          },
          "metadata": {},
          "execution_count": 26
        }
      ]
    },
    {
      "cell_type": "code",
      "metadata": {
        "id": "NdwWkFXtr576"
      },
      "source": [
        "def train_model(model, train_loader, criterion, optimizer, n_epochs):\n",
        "    for epoch in range(n_epochs):\n",
        "        print('Epoch {}/{}'.format(epoch+1, n_epochs))\n",
        "        print('-' * 10)\n",
        "        \n",
        "        model.train()\n",
        "        running_loss = 0.0\n",
        "        running_correct = 0.0\n",
        "        total = 0\n",
        "        \n",
        "        for data in train_loader:\n",
        "            images, labels = data\n",
        "            images = images.to(device)\n",
        "            labels = labels.to(device)\n",
        "            total += labels.size(0)\n",
        "            \n",
        "            optimizer.zero_grad()\n",
        "            \n",
        "            outputs = model(images)\n",
        "            \n",
        "            _, predicted = torch.max(outputs.data, 1)\n",
        "            \n",
        "            loss = criterion(outputs, labels)\n",
        "            \n",
        "            loss.backward()\n",
        "            \n",
        "            optimizer.step()\n",
        "            \n",
        "            running_loss += loss.item()\n",
        "            running_correct += (labels==predicted).sum().item()\n",
        "        \n",
        "        epoch_loss = running_loss/len(train_loader)\n",
        "        epoch_acc = 100.00 * running_correct / total\n",
        "        print('{} loss: {:.4f}, acc: {:.4f}'.format(total, epoch_loss, epoch_acc))\n",
        "\n",
        "    return model"
      ],
      "id": "NdwWkFXtr576",
      "execution_count": 15,
      "outputs": []
    },
    {
      "cell_type": "code",
      "metadata": {
        "id": "oH00qsHqr5-u"
      },
      "source": [
        "def creat_model(model_in=None, class_out=1000, device=\"cpu\"):\n",
        "  if model_in == 'vgg16':  \n",
        "    model = torchvision.models.vgg16(pretrained=False)\n",
        "    model.classifier[6] = torch.nn.modules.linear.Linear(in_features=4096, out_features=class_out, bias=True)\n",
        "  elif model_in == 'densenet121': \n",
        "    model = torchvision.models.densenet121(pretrained=False)\n",
        "    model.classifier = torch.nn.modules.linear.Linear(in_features=1024, out_features=class_out, bias=True)\n",
        "  else:\n",
        "    pass\n",
        "    \n",
        "  model.to(device=device)\n",
        "  return model\n",
        "\n",
        "\n",
        "loss_fn = nn.CrossEntropyLoss()\n",
        "optimizer = optim.SGD(VGG16_model.parameters(), lr=0.01, momentum=0.9, weight_decay=0.003)"
      ],
      "id": "oH00qsHqr5-u",
      "execution_count": 19,
      "outputs": []
    },
    {
      "cell_type": "code",
      "metadata": {
        "id": "XUXOPstz-L1T"
      },
      "source": [
        "def main(model_in):\n",
        "  classes = get_classes()\n",
        "  name = [0,1]\n",
        "  for i in name:\n",
        "    print(model_in + ' data ' + str(i))\n",
        "    tranforms_train, tranforms_test = create_transforms(name = i)\n",
        "    trainset,testset = prepare_datasets(tranforms_train, tranforms_test)\n",
        "    trainloader, testloader = prepare_dataloader(trainset,testset)\n",
        "    model = creat_model(model_in=model_in, class_out=len(classes),device = device)\n",
        "    train_model(model, trainloader, loss_fn, optimizer, 5)\n"
      ],
      "id": "XUXOPstz-L1T",
      "execution_count": 59,
      "outputs": []
    },
    {
      "cell_type": "code",
      "metadata": {
        "colab": {
          "base_uri": "https://localhost:8080/"
        },
        "id": "YOH5jxCMr6Bi",
        "outputId": "fb9e14c8-b5a2-4d2a-95bd-b43a952976ed"
      },
      "source": [
        "models = ['vgg16', 'densenet121']\n",
        "\n",
        "for a in models:\n",
        "  main(a)"
      ],
      "id": "YOH5jxCMr6Bi",
      "execution_count": null,
      "outputs": [
        {
          "output_type": "stream",
          "name": "stdout",
          "text": [
            "vgg16 data 0\n",
            "Epoch 1/5\n",
            "----------\n"
          ]
        }
      ]
    },
    {
      "cell_type": "code",
      "metadata": {
        "id": "Mk6GjxGqr6EL"
      },
      "source": [
        "def test_model(model, test_loader, criterion, optimizer):\n",
        "    labels_input=list()\n",
        "    labels_output=list()\n",
        "    vid_id = list()\n",
        "        \n",
        "    model.eval()\n",
        "\n",
        "    running_loss = 0.0\n",
        "    running_corrects = 0\n",
        "\n",
        "    for images, labels in test_loader:\n",
        "        images = images.to(device)\n",
        "        labels = labels.to(device)\n",
        "        labels_input= labels_input + labels.tolist()\n",
        "    \n",
        "        outputs = model(images)\n",
        "            \n",
        "        loss = criterion(outputs, labels)\n",
        "        _, preds = torch.max(outputs, 1)\n",
        "            \n",
        "        labels_output= labels_output + preds.tolist()\n",
        "    return labels_input,labels_output\n",
        "\n",
        "y_true,y_pred = test_model(VGG16_model, test_loader, loss_fn, optimizer)"
      ],
      "id": "Mk6GjxGqr6EL",
      "execution_count": null,
      "outputs": []
    },
    {
      "cell_type": "code",
      "metadata": {
        "id": "1OuqzmLTr6HD"
      },
      "source": [
        "from sklearn.metrics import confusion_matrix,accuracy_score,classification_report\n",
        "print(classification_report(y_true,y_pred))\n",
        "accuracy_score(y_true, y_pred)"
      ],
      "id": "1OuqzmLTr6HD",
      "execution_count": null,
      "outputs": []
    },
    {
      "cell_type": "code",
      "metadata": {
        "id": "q7OYLCShr6J_"
      },
      "source": [
        ""
      ],
      "id": "q7OYLCShr6J_",
      "execution_count": null,
      "outputs": []
    },
    {
      "cell_type": "code",
      "metadata": {
        "id": "D6UWTtuUr6Mo"
      },
      "source": [
        ""
      ],
      "id": "D6UWTtuUr6Mo",
      "execution_count": null,
      "outputs": []
    },
    {
      "cell_type": "code",
      "metadata": {
        "id": "_QXp5qnQr6Po"
      },
      "source": [
        ""
      ],
      "id": "_QXp5qnQr6Po",
      "execution_count": null,
      "outputs": []
    },
    {
      "cell_type": "code",
      "metadata": {
        "id": "XgKYn5Vxr6SP"
      },
      "source": [
        ""
      ],
      "id": "XgKYn5Vxr6SP",
      "execution_count": null,
      "outputs": []
    },
    {
      "cell_type": "code",
      "metadata": {
        "id": "DXXMLhBvr6VQ"
      },
      "source": [
        ""
      ],
      "id": "DXXMLhBvr6VQ",
      "execution_count": null,
      "outputs": []
    },
    {
      "cell_type": "code",
      "metadata": {
        "id": "xXjz6ve6r6Xs"
      },
      "source": [
        ""
      ],
      "id": "xXjz6ve6r6Xs",
      "execution_count": null,
      "outputs": []
    }
  ]
}